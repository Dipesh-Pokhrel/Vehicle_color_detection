{
  "nbformat": 4,
  "nbformat_minor": 0,
  "metadata": {
    "colab": {
      "name": "Car color recognition.ipynb",
      "provenance": []
    },
    "kernelspec": {
      "name": "python3",
      "display_name": "Python 3"
    },
    "language_info": {
      "name": "python"
    }
  },
  "cells": [
    {
      "cell_type": "code",
      "source": [
        "from tensorflow.keras.models import Sequential,Model,load_model\n",
        "from tensorflow.keras.optimizers import SGD\n",
        "from tensorflow.keras.layers import BatchNormalization, Lambda, Input, Dense, Convolution2D, MaxPooling2D, AveragePooling2D, ZeroPadding2D, Dropout, Flatten,  Reshape, Activation\n",
        "from tensorflow.keras.layers import Concatenate\n",
        "from tensorflow.keras.preprocessing.image import ImageDataGenerator\n",
        "from tensorflow.keras.callbacks import ModelCheckpoint, TensorBoard\n",
        "from tensorflow.keras.callbacks import CallbackList\n",
        "import numpy as np\n",
        "import os"
      ],
      "metadata": {
        "id": "PHjIx2wKvJKY"
      },
      "execution_count": 9,
      "outputs": []
    },
    {
      "cell_type": "code",
      "source": [
        "# Loading tensorboard\n",
        "%tensorflow_version 2.x\n",
        "%load_ext tensorboard"
      ],
      "metadata": {
        "id": "d-JdtxDF22mv",
        "colab": {
          "base_uri": "https://localhost:8080/"
        },
        "outputId": "6e85a975-398c-4091-d892-2b0645d91180"
      },
      "execution_count": 10,
      "outputs": [
        {
          "output_type": "stream",
          "name": "stdout",
          "text": [
            "The tensorboard extension is already loaded. To reload it, use:\n",
            "  %reload_ext tensorboard\n"
          ]
        }
      ]
    },
    {
      "cell_type": "code",
      "source": [
        "from google.colab import drive\n",
        "drive.mount('/content/drive')"
      ],
      "metadata": {
        "colab": {
          "base_uri": "https://localhost:8080/"
        },
        "id": "JmuRHw3NxfEU",
        "outputId": "65beee8c-4ea0-4dfe-c531-c1f33add8dc8"
      },
      "execution_count": 11,
      "outputs": [
        {
          "output_type": "stream",
          "name": "stdout",
          "text": [
            "Drive already mounted at /content/drive; to attempt to forcibly remount, call drive.mount(\"/content/drive\", force_remount=True).\n"
          ]
        }
      ]
    },
    {
      "cell_type": "markdown",
      "source": [
        "Train Data"
      ],
      "metadata": {
        "id": "6cmxLoUt4ZE0"
      }
    },
    {
      "cell_type": "code",
      "source": [
        "# Folder containing all the training data.\n",
        "car_train = \"/content/drive/MyDrive/Colab Notebooks/cars_train\"\n",
        "print('There are', len(os.listdir(car_train)),'folders in the training dataset')"
      ],
      "metadata": {
        "colab": {
          "base_uri": "https://localhost:8080/"
        },
        "id": "uh2zsPWJlOId",
        "outputId": "b11fe891-73bc-4e67-eabf-66d5e36852db"
      },
      "execution_count": 12,
      "outputs": [
        {
          "output_type": "stream",
          "name": "stdout",
          "text": [
            "There are 8144 folders in the training dataset\n"
          ]
        }
      ]
    },
    {
      "cell_type": "markdown",
      "source": [
        "##### Car Test dataset:"
      ],
      "metadata": {
        "id": "uEwRHBYt5cTA"
      }
    },
    {
      "cell_type": "code",
      "source": [
        "# Folder containng all the files for the test set. \n",
        "car_test= \"/content/drive/MyDrive/Colab Notebooks/cars_test\"\n",
        "print('There are', len(os.listdir(car_test)),'folders in the test dataset')"
      ],
      "metadata": {
        "colab": {
          "base_uri": "https://localhost:8080/"
        },
        "id": "voe-0L9f5hsY",
        "outputId": "6e39dbaf-8a52-443b-fa91-552ff4b48d05"
      },
      "execution_count": 13,
      "outputs": [
        {
          "output_type": "stream",
          "name": "stdout",
          "text": [
            "There are 80 folders in the test dataset\n"
          ]
        }
      ]
    },
    {
      "cell_type": "code",
      "source": [
        "# Building a Model\n",
        "def color_net(num_classes):\n",
        "    # placeholder for input image\n",
        "    input_image = Input(shape=(224,224,3))\n",
        "    # ============================================= TOP BRANCH ===================================================\n",
        "    # first top convolution layer\n",
        "    top_conv1 = Convolution2D(filters=48,kernel_size=(11,11),strides=(4,4),\n",
        "                              input_shape=(224,224,3),activation='relu')(input_image)\n",
        "    top_conv1 = BatchNormalization()(top_conv1)\n",
        "    top_conv1 = MaxPooling2D(pool_size=(3,3),strides=(2,2))(top_conv1)\n",
        "\n",
        "    # second top convolution layer\n",
        "    # split feature map by half\n",
        "    top_top_conv2 = Lambda(lambda x : x[:,:,:,:24])(top_conv1)\n",
        "    top_bot_conv2 = Lambda(lambda x : x[:,:,:,24:])(top_conv1)\n",
        "\n",
        "    top_top_conv2 = Convolution2D(filters=64,kernel_size=(3,3),strides=(1,1),activation='relu',padding='same')(top_top_conv2)\n",
        "    top_top_conv2 = BatchNormalization()(top_top_conv2)\n",
        "    top_top_conv2 = MaxPooling2D(pool_size=(3,3),strides=(2,2))(top_top_conv2)\n",
        "\n",
        "    top_bot_conv2 = Convolution2D(filters=64,kernel_size=(3,3),strides=(1,1),activation='relu',padding='same')(top_bot_conv2)\n",
        "    top_bot_conv2 = BatchNormalization()(top_bot_conv2)\n",
        "    top_bot_conv2 = MaxPooling2D(pool_size=(3,3),strides=(2,2))(top_bot_conv2)\n",
        "\n",
        "    # third top convolution layer\n",
        "    # concat 2 feature map\n",
        "    top_conv3 = Concatenate()([top_top_conv2,top_bot_conv2])\n",
        "    top_conv3 = Convolution2D(filters=192,kernel_size=(3,3),strides=(1,1),activation='relu',padding='same')(top_conv3)\n",
        "\n",
        "    # fourth top convolution layer\n",
        "    # split feature map by half\n",
        "    top_top_conv4 = Lambda(lambda x : x[:,:,:,:96])(top_conv3)\n",
        "    top_bot_conv4 = Lambda(lambda x : x[:,:,:,96:])(top_conv3)\n",
        "\n",
        "    top_top_conv4 = Convolution2D(filters=96,kernel_size=(3,3),strides=(1,1),activation='relu',padding='same')(top_top_conv4)\n",
        "    top_bot_conv4 = Convolution2D(filters=96,kernel_size=(3,3),strides=(1,1),activation='relu',padding='same')(top_bot_conv4)\n",
        "\n",
        "    # fifth top convolution layer\n",
        "    top_top_conv5 = Convolution2D(filters=64,kernel_size=(3,3),strides=(1,1),activation='relu',padding='same')(top_top_conv4)\n",
        "    top_top_conv5 = MaxPooling2D(pool_size=(3,3),strides=(2,2))(top_top_conv5) \n",
        "\n",
        "    top_bot_conv5 = Convolution2D(filters=64,kernel_size=(3,3),strides=(1,1),activation='relu',padding='same')(top_bot_conv4)\n",
        "    top_bot_conv5 = MaxPooling2D(pool_size=(3,3),strides=(2,2))(top_bot_conv5)\n",
        "\n",
        "    # ============================================= TOP BOTTOM ===================================================\n",
        "    # first bottom convolution layer\n",
        "    bottom_conv1 = Convolution2D(filters=48,kernel_size=(11,11),strides=(4,4),\n",
        "                              input_shape=(227,227,3),activation='relu')(input_image)\n",
        "    bottom_conv1 = BatchNormalization()(bottom_conv1)\n",
        "    bottom_conv1 = MaxPooling2D(pool_size=(3,3),strides=(2,2))(bottom_conv1)\n",
        "\n",
        "    # second bottom convolution layer\n",
        "    # split feature map by half\n",
        "    bottom_top_conv2 = Lambda(lambda x : x[:,:,:,:24])(bottom_conv1)\n",
        "    bottom_bot_conv2 = Lambda(lambda x : x[:,:,:,24:])(bottom_conv1)\n",
        "\n",
        "    bottom_top_conv2 = Convolution2D(filters=64,kernel_size=(3,3),strides=(1,1),activation='relu',padding='same')(bottom_top_conv2)\n",
        "    bottom_top_conv2 = BatchNormalization()(bottom_top_conv2)\n",
        "    bottom_top_conv2 = MaxPooling2D(pool_size=(3,3),strides=(2,2))(bottom_top_conv2)\n",
        "\n",
        "    bottom_bot_conv2 = Convolution2D(filters=64,kernel_size=(3,3),strides=(1,1),activation='relu',padding='same')(bottom_bot_conv2)\n",
        "    bottom_bot_conv2 = BatchNormalization()(bottom_bot_conv2)\n",
        "    bottom_bot_conv2 = MaxPooling2D(pool_size=(3,3),strides=(2,2))(bottom_bot_conv2)\n",
        "\n",
        "    # third bottom convolution layer\n",
        "    # concat 2 feature map\n",
        "    bottom_conv3 = Concatenate()([bottom_top_conv2,bottom_bot_conv2])\n",
        "    bottom_conv3 = Convolution2D(filters=192,kernel_size=(3,3),strides=(1,1),activation='relu',padding='same')(bottom_conv3)\n",
        "\n",
        "    # fourth bottom convolution layer\n",
        "    # split feature map by half\n",
        "    bottom_top_conv4 = Lambda(lambda x : x[:,:,:,:96])(bottom_conv3)\n",
        "    bottom_bot_conv4 = Lambda(lambda x : x[:,:,:,96:])(bottom_conv3)\n",
        "\n",
        "    bottom_top_conv4 = Convolution2D(filters=96,kernel_size=(3,3),strides=(1,1),activation='relu',padding='same')(bottom_top_conv4)\n",
        "    bottom_bot_conv4 = Convolution2D(filters=96,kernel_size=(3,3),strides=(1,1),activation='relu',padding='same')(bottom_bot_conv4)\n",
        "\n",
        "    # fifth bottom convolution layer\n",
        "    bottom_top_conv5 = Convolution2D(filters=64,kernel_size=(3,3),strides=(1,1),activation='relu',padding='same')(bottom_top_conv4)\n",
        "    bottom_top_conv5 = MaxPooling2D(pool_size=(3,3),strides=(2,2))(bottom_top_conv5) \n",
        "\n",
        "    bottom_bot_conv5 = Convolution2D(filters=64,kernel_size=(3,3),strides=(1,1),activation='relu',padding='same')(bottom_bot_conv4)\n",
        "    bottom_bot_conv5 = MaxPooling2D(pool_size=(3,3),strides=(2,2))(bottom_bot_conv5)\n",
        "\n",
        "    # ======================================== CONCATENATE TOP AND BOTTOM BRANCH =================================\n",
        "    conv_output = Concatenate()([top_top_conv5,top_bot_conv5,bottom_top_conv5,bottom_bot_conv5])\n",
        "\n",
        "    # Flatten\n",
        "    flatten = Flatten()(conv_output)\n",
        "\n",
        "    # Fully-connected layer\n",
        "    FC_1 = Dense(units=4096, activation='relu')(flatten)\n",
        "    FC_1 = Dropout(0.6)(FC_1)\n",
        "    FC_2 = Dense(units=4096, activation='relu')(FC_1)\n",
        "    FC_2 = Dropout(0.6)(FC_2)\n",
        "    output = Dense(units=num_classes, activation='softmax')(FC_2)\n",
        "    \n",
        "    model = Model(inputs=input_image,outputs=output)\n",
        "    sgd = SGD(learning_rate=1e-3, decay=1e-6, momentum=0.9, nesterov=True)\n",
        "    # sgd = SGD(lr=0.01, momentum=0.9, decay=0.0005, nesterov=True)\n",
        "    model.compile(optimizer=sgd, loss='categorical_crossentropy', metrics=['accuracy'])\n",
        "    \n",
        "    return model\n",
        "\n",
        "\n",
        "    img_row, img_cols =224, 224 \n",
        "    num_classes = 9\n",
        "    batch_size =32\n",
        "    nb_epochs = 5\n",
        "\n",
        "    # Instantating the model\n",
        "    filepath = 'color_weights.hdf5'\n",
        "    checkpoint = ModelCheckpoint(filepath,monitor=val_loss,verbose=1,save_best_only=True,mode=max)\n",
        "    tensorboard = TensorBoard(log_dir='./logs',histogram_freq=0,batch_size=32,write_graph=True, write_grads=False,embedding_freq=0,embeddings_layers_names=None,embeddings_data=None, update_freq='batch')\n",
        "    callbacks_list = [checkpoint, tensorboard]\n",
        "\n",
        "    train_datagenerator = ImageDataGenerator(\n",
        "        rescale=1./255,\n",
        "        shear_range=0.2,\n",
        "        zoom_range=0.3,\n",
        "        horizontal_flip=True,\n",
        "        dtype='float32')\n",
        "    test_datagenetator = ImageDataGenerator(\n",
        "        rescale=1./255,\n",
        "        dtype='float32')\n",
        "    \n",
        "    train_set = train_datagenetator.flow_from_directory(\n",
        "        'dataset/train', \n",
        "        target_size=(img_rows, img_colns),\n",
        "        batch_size= batch_size,\n",
        "        class_mode = 'categorical' )\n",
        "\n",
        "    test_set = train_datagenetator.flow_from_directory(\n",
        "        'dataset/test', \n",
        "        target_size=(img_rows, img_colns),\n",
        "        batch_size= batch_size,\n",
        "        class_mode = 'categorical')\n",
        "    label_map = (test_set.class_indicies)\n",
        "\n",
        "    # Fitting a Model\n",
        "    fit.model_generator(\n",
        "        train_set,\n",
        "        steps_per_epoch =2892,\n",
        "        epoch=665,\n",
        "        callbacks=callbacks_list)\n",
        "    model.save('color_net.h5')"
      ],
      "metadata": {
        "id": "kFh0tRABvo7W"
      },
      "execution_count": 14,
      "outputs": []
    },
    {
      "cell_type": "code",
      "source": [
        "model.summary()"
      ],
      "metadata": {
        "colab": {
          "base_uri": "https://localhost:8080/"
        },
        "id": "k2pZLBUzObQP",
        "outputId": "85e23b80-10ec-4d12-cd09-9d1d5ca592ea"
      },
      "execution_count": 28,
      "outputs": [
        {
          "output_type": "stream",
          "name": "stdout",
          "text": [
            "Model: \"model_1\"\n",
            "__________________________________________________________________________________________________\n",
            " Layer (type)                   Output Shape         Param #     Connected to                     \n",
            "==================================================================================================\n",
            " input_2 (InputLayer)           [(None, 224, 224, 3  0           []                               \n",
            "                                )]                                                                \n",
            "                                                                                                  \n",
            " conv2d_16 (Conv2D)             (None, 54, 54, 48)   17472       ['input_2[0][0]']                \n",
            "                                                                                                  \n",
            " conv2d_24 (Conv2D)             (None, 54, 54, 48)   17472       ['input_2[0][0]']                \n",
            "                                                                                                  \n",
            " batch_normalization_6 (BatchNo  (None, 54, 54, 48)  192         ['conv2d_16[0][0]']              \n",
            " rmalization)                                                                                     \n",
            "                                                                                                  \n",
            " batch_normalization_9 (BatchNo  (None, 54, 54, 48)  192         ['conv2d_24[0][0]']              \n",
            " rmalization)                                                                                     \n",
            "                                                                                                  \n",
            " max_pooling2d_10 (MaxPooling2D  (None, 26, 26, 48)  0           ['batch_normalization_6[0][0]']  \n",
            " )                                                                                                \n",
            "                                                                                                  \n",
            " max_pooling2d_15 (MaxPooling2D  (None, 26, 26, 48)  0           ['batch_normalization_9[0][0]']  \n",
            " )                                                                                                \n",
            "                                                                                                  \n",
            " lambda_8 (Lambda)              (None, 26, 26, 24)   0           ['max_pooling2d_10[0][0]']       \n",
            "                                                                                                  \n",
            " lambda_9 (Lambda)              (None, 26, 26, 24)   0           ['max_pooling2d_10[0][0]']       \n",
            "                                                                                                  \n",
            " lambda_12 (Lambda)             (None, 26, 26, 24)   0           ['max_pooling2d_15[0][0]']       \n",
            "                                                                                                  \n",
            " lambda_13 (Lambda)             (None, 26, 26, 24)   0           ['max_pooling2d_15[0][0]']       \n",
            "                                                                                                  \n",
            " conv2d_17 (Conv2D)             (None, 26, 26, 64)   13888       ['lambda_8[0][0]']               \n",
            "                                                                                                  \n",
            " conv2d_18 (Conv2D)             (None, 26, 26, 64)   13888       ['lambda_9[0][0]']               \n",
            "                                                                                                  \n",
            " conv2d_25 (Conv2D)             (None, 26, 26, 64)   13888       ['lambda_12[0][0]']              \n",
            "                                                                                                  \n",
            " conv2d_26 (Conv2D)             (None, 26, 26, 64)   13888       ['lambda_13[0][0]']              \n",
            "                                                                                                  \n",
            " batch_normalization_7 (BatchNo  (None, 26, 26, 64)  256         ['conv2d_17[0][0]']              \n",
            " rmalization)                                                                                     \n",
            "                                                                                                  \n",
            " batch_normalization_8 (BatchNo  (None, 26, 26, 64)  256         ['conv2d_18[0][0]']              \n",
            " rmalization)                                                                                     \n",
            "                                                                                                  \n",
            " batch_normalization_10 (BatchN  (None, 26, 26, 64)  256         ['conv2d_25[0][0]']              \n",
            " ormalization)                                                                                    \n",
            "                                                                                                  \n",
            " batch_normalization_11 (BatchN  (None, 26, 26, 64)  256         ['conv2d_26[0][0]']              \n",
            " ormalization)                                                                                    \n",
            "                                                                                                  \n",
            " max_pooling2d_11 (MaxPooling2D  (None, 12, 12, 64)  0           ['batch_normalization_7[0][0]']  \n",
            " )                                                                                                \n",
            "                                                                                                  \n",
            " max_pooling2d_12 (MaxPooling2D  (None, 12, 12, 64)  0           ['batch_normalization_8[0][0]']  \n",
            " )                                                                                                \n",
            "                                                                                                  \n",
            " max_pooling2d_16 (MaxPooling2D  (None, 12, 12, 64)  0           ['batch_normalization_10[0][0]'] \n",
            " )                                                                                                \n",
            "                                                                                                  \n",
            " max_pooling2d_17 (MaxPooling2D  (None, 12, 12, 64)  0           ['batch_normalization_11[0][0]'] \n",
            " )                                                                                                \n",
            "                                                                                                  \n",
            " concatenate_3 (Concatenate)    (None, 12, 12, 128)  0           ['max_pooling2d_11[0][0]',       \n",
            "                                                                  'max_pooling2d_12[0][0]']       \n",
            "                                                                                                  \n",
            " concatenate_4 (Concatenate)    (None, 12, 12, 128)  0           ['max_pooling2d_16[0][0]',       \n",
            "                                                                  'max_pooling2d_17[0][0]']       \n",
            "                                                                                                  \n",
            " conv2d_19 (Conv2D)             (None, 12, 12, 192)  221376      ['concatenate_3[0][0]']          \n",
            "                                                                                                  \n",
            " conv2d_27 (Conv2D)             (None, 12, 12, 192)  221376      ['concatenate_4[0][0]']          \n",
            "                                                                                                  \n",
            " lambda_10 (Lambda)             (None, 12, 12, 96)   0           ['conv2d_19[0][0]']              \n",
            "                                                                                                  \n",
            " lambda_11 (Lambda)             (None, 12, 12, 96)   0           ['conv2d_19[0][0]']              \n",
            "                                                                                                  \n",
            " lambda_14 (Lambda)             (None, 12, 12, 96)   0           ['conv2d_27[0][0]']              \n",
            "                                                                                                  \n",
            " lambda_15 (Lambda)             (None, 12, 12, 96)   0           ['conv2d_27[0][0]']              \n",
            "                                                                                                  \n",
            " conv2d_20 (Conv2D)             (None, 12, 12, 96)   83040       ['lambda_10[0][0]']              \n",
            "                                                                                                  \n",
            " conv2d_21 (Conv2D)             (None, 12, 12, 96)   83040       ['lambda_11[0][0]']              \n",
            "                                                                                                  \n",
            " conv2d_28 (Conv2D)             (None, 12, 12, 96)   83040       ['lambda_14[0][0]']              \n",
            "                                                                                                  \n",
            " conv2d_29 (Conv2D)             (None, 12, 12, 96)   83040       ['lambda_15[0][0]']              \n",
            "                                                                                                  \n",
            " conv2d_22 (Conv2D)             (None, 12, 12, 64)   55360       ['conv2d_20[0][0]']              \n",
            "                                                                                                  \n",
            " conv2d_23 (Conv2D)             (None, 12, 12, 64)   55360       ['conv2d_21[0][0]']              \n",
            "                                                                                                  \n",
            " conv2d_30 (Conv2D)             (None, 12, 12, 64)   55360       ['conv2d_28[0][0]']              \n",
            "                                                                                                  \n",
            " conv2d_31 (Conv2D)             (None, 12, 12, 64)   55360       ['conv2d_29[0][0]']              \n",
            "                                                                                                  \n",
            " max_pooling2d_13 (MaxPooling2D  (None, 5, 5, 64)    0           ['conv2d_22[0][0]']              \n",
            " )                                                                                                \n",
            "                                                                                                  \n",
            " max_pooling2d_14 (MaxPooling2D  (None, 5, 5, 64)    0           ['conv2d_23[0][0]']              \n",
            " )                                                                                                \n",
            "                                                                                                  \n",
            " max_pooling2d_18 (MaxPooling2D  (None, 5, 5, 64)    0           ['conv2d_30[0][0]']              \n",
            " )                                                                                                \n",
            "                                                                                                  \n",
            " max_pooling2d_19 (MaxPooling2D  (None, 5, 5, 64)    0           ['conv2d_31[0][0]']              \n",
            " )                                                                                                \n",
            "                                                                                                  \n",
            " concatenate_5 (Concatenate)    (None, 5, 5, 256)    0           ['max_pooling2d_13[0][0]',       \n",
            "                                                                  'max_pooling2d_14[0][0]',       \n",
            "                                                                  'max_pooling2d_18[0][0]',       \n",
            "                                                                  'max_pooling2d_19[0][0]']       \n",
            "                                                                                                  \n",
            " flatten_1 (Flatten)            (None, 6400)         0           ['concatenate_5[0][0]']          \n",
            "                                                                                                  \n",
            " dense_3 (Dense)                (None, 4096)         26218496    ['flatten_1[0][0]']              \n",
            "                                                                                                  \n",
            " dropout_2 (Dropout)            (None, 4096)         0           ['dense_3[0][0]']                \n",
            "                                                                                                  \n",
            " dense_4 (Dense)                (None, 4096)         16781312    ['dropout_2[0][0]']              \n",
            "                                                                                                  \n",
            " dropout_3 (Dropout)            (None, 4096)         0           ['dense_4[0][0]']                \n",
            "                                                                                                  \n",
            " dense_5 (Dense)                (None, 9)            36873       ['dropout_3[0][0]']              \n",
            "                                                                                                  \n",
            "==================================================================================================\n",
            "Total params: 44,124,937\n",
            "Trainable params: 44,124,233\n",
            "Non-trainable params: 704\n",
            "__________________________________________________________________________________________________\n"
          ]
        }
      ]
    },
    {
      "cell_type": "markdown",
      "source": [
        "#### Prediction"
      ],
      "metadata": {
        "id": "9rA3m9DuNt8f"
      }
    },
    {
      "cell_type": "code",
      "source": [
        "import PIL.Image as Image\n",
        "image_shape = (224,224)\n",
        "image = Image.open('/content/drive/MyDrive/Colab Notebooks/cars_test/00736.jpg').resize(image_shape)"
      ],
      "metadata": {
        "id": "bEGdDLbb2VVG"
      },
      "execution_count": 23,
      "outputs": []
    },
    {
      "cell_type": "code",
      "source": [
        "# Normalizing\n",
        "img = np.array(image)/255.0\n",
        "img.shape"
      ],
      "metadata": {
        "colab": {
          "base_uri": "https://localhost:8080/"
        },
        "id": "owgSkExpNzEW",
        "outputId": "1b398540-6428-43aa-db47-7b358e8dc39e"
      },
      "execution_count": 24,
      "outputs": [
        {
          "output_type": "execute_result",
          "data": {
            "text/plain": [
              "(224, 224, 3)"
            ]
          },
          "metadata": {},
          "execution_count": 24
        }
      ]
    },
    {
      "cell_type": "code",
      "source": [
        "img = img[np.newaxis,...]"
      ],
      "metadata": {
        "id": "PC7oAj1SNzrG"
      },
      "execution_count": 25,
      "outputs": []
    },
    {
      "cell_type": "code",
      "source": [
        "prediction = model.predict(img)\n",
        "output = np.argmax(prediction)\n",
        "output"
      ],
      "metadata": {
        "colab": {
          "base_uri": "https://localhost:8080/"
        },
        "id": "cRIsaovfN2hx",
        "outputId": "1ecd50c3-5051-4e84-982c-cf026060208d"
      },
      "execution_count": 26,
      "outputs": [
        {
          "output_type": "execute_result",
          "data": {
            "text/plain": [
              "7"
            ]
          },
          "metadata": {},
          "execution_count": 26
        }
      ]
    }
  ]
}